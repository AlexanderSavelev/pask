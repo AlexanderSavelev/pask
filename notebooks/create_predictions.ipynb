{
 "cells": [
  {
   "cell_type": "code",
   "execution_count": 1,
   "id": "24005371-5572-4191-83ef-5ba4df70049e",
   "metadata": {
    "tags": []
   },
   "outputs": [],
   "source": [
    "import pandas as pd\n",
    "import dask.dataframe as dd\n",
    "import pickle"
   ]
  },
  {
   "cell_type": "code",
   "execution_count": 2,
   "id": "72103276-7ee5-4d74-8258-7fc8689f02a6",
   "metadata": {
    "tags": []
   },
   "outputs": [],
   "source": [
    "X_test = dd.read_parquet('X_test.parquet', engine='fastparquet')\n",
    "y_train = dd.read_parquet('y_train.parquet', engine='fastparquet')"
   ]
  },
  {
   "cell_type": "code",
   "execution_count": 3,
   "id": "f9aa9412-a7ce-475f-ad3e-8fb75b6d7790",
   "metadata": {
    "tags": []
   },
   "outputs": [],
   "source": [
    "feature_prefix = 'ЭКСГАУСТЕР '\n",
    "target_prefix = 'Y_ЭКСГАУСТЕР А/М №'"
   ]
  },
  {
   "cell_type": "code",
   "execution_count": 17,
   "id": "ead31124-13af-48e8-b438-303cac41cf1a",
   "metadata": {
    "tags": []
   },
   "outputs": [],
   "source": [
    "def feature_by_machine(data, machine_number):\n",
    "    machine_columns = [column for column in data.columns if feature_prefix + str(machine_number) in column]\n",
    "    return data[machine_columns]"
   ]
  },
  {
   "cell_type": "code",
   "execution_count": 18,
   "id": "2fa1be82-81b0-41fc-966f-3764a05ba22d",
   "metadata": {
    "tags": []
   },
   "outputs": [],
   "source": [
    "def target_by_machine(data, machine_number):\n",
    "    machine_columns = [column for column in data.columns if target_prefix + str(machine_number) in column]\n",
    "    return data[machine_columns]"
   ]
  },
  {
   "cell_type": "code",
   "execution_count": 56,
   "id": "7ba5a345-6619-4d61-bd1b-a4653ae2f787",
   "metadata": {
    "tags": []
   },
   "outputs": [],
   "source": [
    "machine_numbers = [7, 8, 9]"
   ]
  },
  {
   "cell_type": "code",
   "execution_count": 22,
   "id": "fa9387db-985b-4552-bd8c-e5670456c523",
   "metadata": {
    "tags": []
   },
   "outputs": [],
   "source": [
    "def load_model_for_target(machine_number, feature_number):\n",
    "    model_file = 'models/' + 'decision_tree_classifier_' + str(machine_number) + '_' + str(feature_number) + '.pkl'\n",
    "    with open(model_file, \"rb\") as f:\n",
    "        model = pickle.load(f)\n",
    "    return model    "
   ]
  },
  {
   "cell_type": "code",
   "execution_count": 54,
   "id": "73c74c97-3491-4c2e-a2b0-17bd3ae499e6",
   "metadata": {
    "tags": []
   },
   "outputs": [],
   "source": [
    "def make_predictions(feature, target):\n",
    "    for number in machine_numbers:\n",
    "        features = feature_by_machine(feature, number)\n",
    "        features = features.fillna(0)\n",
    "        targets = target_by_machine(target, number)\n",
    "        for i in range(len(targets.columns)):\n",
    "            model = load_model_for_target(number, i)\n",
    "            predict = model.predict(features)\n",
    "            filename = targets.columns[i].replace(' ', '_')\n",
    "            filename = filename.replace('.', '_')\n",
    "            filename = filename.replace('/', '_')\n",
    "            filename = 'predictions/' + filename + '.csv'\n",
    "            print(filename)\n",
    "            predictions = pd.DataFrame(predict, index=X_test.index)\n",
    "            predictions.to_csv(filename)"
   ]
  },
  {
   "cell_type": "code",
   "execution_count": 57,
   "id": "e41d002a-7055-43b7-976e-03912f230b4c",
   "metadata": {
    "tags": []
   },
   "outputs": [
    {
     "name": "stdout",
     "output_type": "stream",
     "text": [
      "predictions/Y_ЭКСГАУСТЕР_А_М_№7_ЭЛЕКТРОДВИГАТЕЛЬ_ДСПУ-140-84-4_ЭКСГ__№7.csv\n",
      "predictions/Y_ЭКСГАУСТЕР_А_М_№7_КОРПУС_ЭКСГ__№7.csv\n",
      "predictions/Y_ЭКСГАУСТЕР_А_М_№7_ПОДШИПНИК_ОПОРНЫЙ_№1.csv\n",
      "predictions/Y_ЭКСГАУСТЕР_А_М_№7_ЗАДВИЖКА_ЭКСГ__№7.csv\n",
      "predictions/Y_ЭКСГАУСТЕР_А_М_№7_ПОДШИПНИК_ОПОРНЫЙ_№2.csv\n",
      "predictions/Y_ЭКСГАУСТЕР_А_М_№7_РОТОР_ЭКСГ__№7.csv\n",
      "predictions/Y_ЭКСГАУСТЕР_А_М_№7_ПОДШИПНИК_ОПОРНО-УПОРНЫЙ_ЭКСГ__№7.csv\n",
      "predictions/Y_ЭКСГАУСТЕР_А_М_№7_ВК_310С_ВИБРОПРЕОБРАЗОВАТЕЛЬ_ЭКСГ_№7_Т_3.csv\n",
      "predictions/Y_ЭКСГАУСТЕР_А_М_№7_РЕДУКТОР_ГАЗ__ЗАДВИЖКИ_ЭКСГ__№7.csv\n",
      "predictions/Y_ЭКСГАУСТЕР_А_М_№7_ТСМТ-101-010-50М-80_ТЕРМОПРЕОБР_МАСЛО.csv\n",
      "predictions/Y_ЭКСГАУСТЕР_А_М_№7_ПОДШИПНИК_ОПОРНЫЙ_ЭКСГ__№7.csv\n",
      "predictions/Y_ЭКСГАУСТЕР_А_М_№7_ГСМ_ЭКСГ__№7.csv\n",
      "predictions/Y_ЭКСГАУСТЕР_А_М_№7_КОЖУХ_МУФТЫ_ЭКСГ__№7.csv\n",
      "predictions/Y_ЭКСГАУСТЕР_А_М_№7_ЭКСГАУСТЕР_А_М_№7.csv\n",
      "predictions/Y_ЭКСГАУСТЕР_А_М_№7_МАСЛОПРОВОДЫ_ЭКСГАУСТЕРА_№7.csv\n",
      "predictions/Y_ЭКСГАУСТЕР_А_М_№7_МАСЛООХЛАДИТЕЛЬ__М-05-1_ЭКСГ__№7.csv\n",
      "predictions/Y_ЭКСГАУСТЕР_А_М_№7_САПФИР_22_МДД_ПЕРЕПАД_ДАВЛ__НА_ЦИКЛОНЕ.csv\n",
      "predictions/Y_ЭКСГАУСТЕР_А_М_№7_ЭЛЕКТРООБОРУДОВАНИЯ_ЭКСГАУСТЕРА_№7.csv\n",
      "predictions/Y_ЭКСГАУСТЕР_А_М_№7_МАСЛОНАСОС_РАБОЧИЙ_ЭКСГ__№7.csv\n",
      "predictions/Y_ЭКСГАУСТЕР_А_М_№7_МАСЛОНАСОС_ШЕСТЕРЕНЧАТЫЙ_(ПУСК_)_ЭКСГ_№7.csv\n",
      "predictions/Y_ЭКСГАУСТЕР_А_М_№7_МАСЛЯНЫЙ_ФИЛЬТР_ЭКСГАУСТЕРА_№7.csv\n",
      "predictions/Y_ЭКСГАУСТЕР_А_М_№7_ТР-Р_ТМ-4000-10_6_ЭКСГ__№7.csv\n",
      "predictions/Y_ЭКСГАУСТЕР_А_М_№7_ТСМТ-101-010-50М-200_ТЕРМОПР_ПОДШ_Т_3.csv\n",
      "predictions/Y_ЭКСГАУСТЕР_А_М_№7_ВК_310С_ВИБРОПРЕОБРАЗОВАТЕЛЬ_ЭКСГ_№7_Т_2.csv\n",
      "predictions/Y_ЭКСГАУСТЕР_А_М_№7_ВК_310С_ВИБРОПРЕОБРАЗОВАТЕЛЬ_ЭКСГ_№7_Т_4.csv\n",
      "predictions/Y_ЭКСГАУСТЕР_А_М_№7_ТИРИСТОРНЫЙ_ВОЗБУДИТЕЛЬ_ТВ-400_ЭКСГ7_ВУ1.csv\n",
      "predictions/Y_ЭКСГАУСТЕР_А_М_№7_ТСМТ-101-010-50М-400_ТЕРМОПР_ПОДШ_Т_2.csv\n",
      "predictions/Y_ЭКСГАУСТЕР_А_М_№7_КЛ1_ТР№7_ДО_ЭД_ЭКСГАУСТЕРА_№7.csv\n",
      "predictions/Y_ЭКСГАУСТЕР_А_М_№7_МЕТРАН-100_ДАТЧИКИ_ДАВЛЕНИЯ_ЭКСГ_№7.csv\n",
      "predictions/Y_ЭКСГАУСТЕР_А_М_№7_РЕГУЛИРУЮЩАЯ_АППАРАТУРА_ЭКСГАУСТЕРА_№7.csv\n",
      "predictions/Y_ЭКСГАУСТЕР_А_М_№7_ЭЛ_ДВИГАТЕЛЬ_ГАЗ__ЗАДВИЖКИ_ЭКСГ__№7.csv\n",
      "predictions/Y_ЭКСГАУСТЕР_А_М_№7_ТСМТ-101-010-50М-400_ТЕРМОПР_ПОДШ_Т_1.csv\n",
      "predictions/Y_ЭКСГАУСТЕР_А_М_№8_РОТОР_ЭКСГ__№8.csv\n",
      "predictions/Y_ЭКСГАУСТЕР_А_М_№8_ЭЛЕКТРОДВИГАТЕЛЬ_ДСПУ-140-84-4_ЭКСГ__№8.csv\n",
      "predictions/Y_ЭКСГАУСТЕР_А_М_№8_КОРПУС_ЭКСГ__№8.csv\n",
      "predictions/Y_ЭКСГАУСТЕР_А_М_№8_РЕДУКТОР_ГАЗ__ЗАДВИЖКИ_ЭКСГ__№8.csv\n",
      "predictions/Y_ЭКСГАУСТЕР_А_М_№8_ВК_310С_ВИБРОПРЕОБРАЗОВАТЕЛЬ_ЭКСГ_№8_Т_3.csv\n",
      "predictions/Y_ЭКСГАУСТЕР_А_М_№8_ВК_310С_ВИБРОПРЕОБРАЗОВАТЕЛЬ_ЭКСГ_№8_Т_4.csv\n",
      "predictions/Y_ЭКСГАУСТЕР_А_М_№8_ЭЛ_ДВИГАТЕЛЬ_ГАЗ__ЗАДВИЖКИ_ЭКСГ__№8.csv\n",
      "predictions/Y_ЭКСГАУСТЕР_А_М_№8_МАСЛООХЛАДИТЕЛЬ__М-05-1_ЭКСГ__№8.csv\n",
      "predictions/Y_ЭКСГАУСТЕР_А_М_№8_ТИРИСТОРНЫЙ_ВОЗБУДИТЕЛЬ_СПВД-М10-400-5.csv\n",
      "predictions/Y_ЭКСГАУСТЕР_А_М_№8_КЛ2_ТР№8_ДО_ЭД_ЭКСГАУСТЕРА_№8.csv\n",
      "predictions/Y_ЭКСГАУСТЕР_А_М_№8_КЛ1_ТР№8_ДО_ЭД_ЭКСГАУСТЕРА_№8.csv\n",
      "predictions/Y_ЭКСГАУСТЕР_А_М_№8_ТСМТ-101-010-50М-400_ТЕРМОПР_ПОДШ_Т_2.csv\n",
      "predictions/Y_ЭКСГАУСТЕР_А_М_№8_КОЖУХ_МУФТЫ_ЭКСГ__№8.csv\n",
      "predictions/Y_ЭКСГАУСТЕР_А_М_№8_ГСМ_ЭКСГ__№8.csv\n",
      "predictions/Y_ЭКСГАУСТЕР_А_М_№8_ПОДШИПНИК_ОПОРНЫЙ_№2.csv\n",
      "predictions/Y_ЭКСГАУСТЕР_А_М_№8_ЭКСГАУСТЕР_А_М_№8.csv\n",
      "predictions/Y_ЭКСГАУСТЕР_А_М_№8_ЗАПОРНАЯ_АРМАТУРА_ЭКСГАУСТЕРА_№8.csv\n",
      "predictions/Y_ЭКСГАУСТЕР_А_М_№8_ТСМТ-101-010-50М-200_ТЕРМОПР_ПОДШ_Т_4.csv\n",
      "predictions/Y_ЭКСГАУСТЕР_А_М_№8_МАСЛЯНЫЙ_ФИЛЬТР_ЭКСГАУСТЕРА_№8.csv\n",
      "predictions/Y_ЭКСГАУСТЕР_А_М_№8_ТИРИСТОРНЫЙ_ВОЗБУДИТЕЛЬ_ТВ-400_ЭКСГ8_ВУ1.csv\n",
      "predictions/Y_ЭКСГАУСТЕР_А_М_№8_ПОДШИПНИК_ОПОРНЫЙ_№1.csv\n",
      "predictions/Y_ЭКСГАУСТЕР_А_М_№8_ЭЛЕКТРООБОРУДОВАНИЯ_ЭКСГАУСТЕРА_№8.csv\n",
      "predictions/Y_ЭКСГАУСТЕР_А_М_№8_ПОДШИПНИК_ОПОРНЫЙ_ЭКСГ__№8.csv\n",
      "predictions/Y_ЭКСГАУСТЕР_А_М_№8_ЗАДВИЖКА_ЭКСГ__№8.csv\n",
      "predictions/Y_ЭКСГАУСТЕР_А_М_№8_МАСЛОНАСОС_РАБОЧИЙ_ЭКСГ__№8.csv\n",
      "predictions/Y_ЭКСГАУСТЕР_А_М_№8_МАСЛОНАСОС_ШЕСТЕРЕНЧАТЫЙ_(РЕЗ_)_ЭКСГ__№8.csv\n",
      "predictions/Y_ЭКСГАУСТЕР_А_М_№8_МАСЛОНАСОС_ШЕСТЕРЕНЧАТЫЙ_(ПУСК_)_ЭКСГ_№8.csv\n",
      "predictions/Y_ЭКСГАУСТЕР_А_М_№8_ВК_310С_ВИБРОПРЕОБРАЗОВАТЕЛЬ_ЭКСГ_№8_Т_2.csv\n",
      "predictions/Y_ЭКСГАУСТЕР_А_М_№8_ТР-Р_ТМ-6300-10_6_ЭКСГ__№8.csv\n",
      "predictions/Y_ЭКСГАУСТЕР_А_М_№8_ПОДШИПНИК_ОПОРНО-УПОРНЫЙ_ЭКСГ__№8.csv\n",
      "predictions/Y_ЭКСГАУСТЕР_А_М_№8_МАСЛОПРОВОДЫ_ЭКСГАУСТЕРА_№8.csv\n",
      "predictions/Y_ЭКСГАУСТЕР_А_М_№9_ЗАПОРНАЯ_АРМАТУРА_ЭКСГАУСТЕРА_№9.csv\n",
      "predictions/Y_ЭКСГАУСТЕР_А_М_№9_МАСЛОСТАНЦИЯ_ЖИДКОЙ_СМАЗКИ_ЭКСГ__№9.csv\n",
      "predictions/Y_ЭКСГАУСТЕР_А_М_№9_ЭЛЕКТРОАППАРАТУРА_ЭКСГ__№9.csv\n",
      "predictions/Y_ЭКСГАУСТЕР_А_М_№9_КЛ1_ТР№9_ДО_ЭД_ЭКСГАУСТЕРА_№9.csv\n",
      "predictions/Y_ЭКСГАУСТЕР_А_М_№9_ЭЛЕКТРОДВИГАТЕЛЬ_ДСПУ-140-84-4_ЭКСГ__№9.csv\n",
      "predictions/Y_ЭКСГАУСТЕР_А_М_№9_КОРПУС_ЭКСГ__№9.csv\n",
      "predictions/Y_ЭКСГАУСТЕР_А_М_№9_РЕДУКТОР_ГАЗ__ЗАДВИЖКИ_ЭКСГ__№9.csv\n",
      "predictions/Y_ЭКСГАУСТЕР_А_М_№9_МАСЛООХЛАДИТЕЛЬ__М-05-1_ЭКСГ__№9.csv\n",
      "predictions/Y_ЭКСГАУСТЕР_А_М_№9_ЭЛ_ДВИГАТЕЛЬ_ГАЗ__ЗАДВИЖКИ_ЭКСГ__№9.csv\n",
      "predictions/Y_ЭКСГАУСТЕР_А_М_№9_ЭЛЕКТРООБОРУДОВАНИЯ_ЭКСГАУСТЕРА_№9.csv\n",
      "predictions/Y_ЭКСГАУСТЕР_А_М_№9_ПОДШИПНИК_ОПОРНО-УПОРНЫЙ_ЭКСГ__№9.csv\n",
      "predictions/Y_ЭКСГАУСТЕР_А_М_№9_РОТОР_ЭКСГ__№9.csv\n",
      "predictions/Y_ЭКСГАУСТЕР_А_М_№9_ТР-Р_ТМ-6300-10_6_ЭКСГ__№9.csv\n",
      "predictions/Y_ЭКСГАУСТЕР_А_М_№9_ПОДШИПНИК_ОПОРНЫЙ_ЭКСГ__№9.csv\n",
      "predictions/Y_ЭКСГАУСТЕР_А_М_№9_МАСЛОНАСОС_РАБОЧИЙ_ЭКСГ__№9.csv\n",
      "predictions/Y_ЭКСГАУСТЕР_А_М_№9_ПОДШИПНИК_ОПОРНЫЙ_№2.csv\n",
      "predictions/Y_ЭКСГАУСТЕР_А_М_№9_ГСМ_ЭКСГ__№9.csv\n",
      "predictions/Y_ЭКСГАУСТЕР_А_М_№9_КОЖУХ_МУФТЫ_ЭКСГ__№9.csv\n",
      "predictions/Y_ЭКСГАУСТЕР_А_М_№9_ПОДШИПНИК_ОПОРНЫЙ_№1.csv\n",
      "predictions/Y_ЭКСГАУСТЕР_А_М_№9_ЗАДВИЖКА_ЭКСГ__№9.csv\n",
      "predictions/Y_ЭКСГАУСТЕР_А_М_№9_ВК_310С_ВИБРОПРЕОБРАЗОВАТЕЛЬ_ЭКСГ_№9_Т_1.csv\n",
      "predictions/Y_ЭКСГАУСТЕР_А_М_№9_МАСЛОПРОВОДЫ_ЭКСГАУСТЕРА_№9.csv\n",
      "predictions/Y_ЭКСГАУСТЕР_А_М_№9_ТИРИСТОРНЫЙ_ВОЗБУДИТЕЛЬ_ТВ-400_ЭКСГ9_ВУ1.csv\n",
      "predictions/Y_ЭКСГАУСТЕР_А_М_№9_МЕТРАН-100_ДАТЧИКИ_ДАВЛЕНИЯ_ЭКСГ_№9.csv\n",
      "predictions/Y_ЭКСГАУСТЕР_А_М_№9_ТСМТ-101-010-50М-80_ТЕРМОПРЕОБР_МАСЛО.csv\n",
      "predictions/Y_ЭКСГАУСТЕР_А_М_№9_ТСМТ-101-010-50М-400_ТЕРМОПР_ПОДШ_Т_1.csv\n",
      "predictions/Y_ЭКСГАУСТЕР_А_М_№9_ЭКСГАУСТЕР_А_М_№9.csv\n",
      "predictions/Y_ЭКСГАУСТЕР_А_М_№9_ДВИГАТЕЛЬ_ПУСКОВОГО_МАСЛОНАСОСА_ЭКСГ__№9.csv\n"
     ]
    }
   ],
   "source": [
    "make_predictions(X_test, y_train)"
   ]
  },
  {
   "cell_type": "code",
   "execution_count": null,
   "id": "d32a471d-4e5e-4ac2-9d36-e2b9a1091686",
   "metadata": {},
   "outputs": [],
   "source": []
  }
 ],
 "metadata": {
  "kernelspec": {
   "display_name": "Python 3 (ipykernel)",
   "language": "python",
   "name": "python3"
  },
  "language_info": {
   "codemirror_mode": {
    "name": "ipython",
    "version": 3
   },
   "file_extension": ".py",
   "mimetype": "text/x-python",
   "name": "python",
   "nbconvert_exporter": "python",
   "pygments_lexer": "ipython3",
   "version": "3.10.10"
  }
 },
 "nbformat": 4,
 "nbformat_minor": 5
}
